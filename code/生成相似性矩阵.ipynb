{
 "cells": [
  {
   "cell_type": "code",
   "execution_count": 2,
   "id": "b481ae0c",
   "metadata": {},
   "outputs": [],
   "source": [
    "#文档向量\n",
    "import numpy as np\n",
    "import pandas as pd\n",
    "from gensim import utils\n",
    "from gensim.models.doc2vec import TaggedDocument\n",
    "from gensim.models import Doc2Vec\n",
    "from gensim.parsing.preprocessing import preprocess_string,remove_stopwords\n",
    "import random\n",
    "import warnings\n",
    "from scipy.spatial.distance import pdist\n",
    "warnings.filterwarnings(\"ignore\")"
   ]
  },
  {
   "cell_type": "code",
   "execution_count": 33,
   "id": "5c42613a",
   "metadata": {},
   "outputs": [],
   "source": [
    "import scipy.io\n",
    "from collections import Counter\n",
    "from itertools import product\n",
    "from tqdm import trange\n",
    "from tqdm import tqdm\n",
    "from copy import deepcopy"
   ]
  },
  {
   "cell_type": "code",
   "execution_count": 77,
   "id": "274d9c3e",
   "metadata": {},
   "outputs": [],
   "source": [
    "def normalize(word_vec): \n",
    "    norm=np.linalg.norm(word_vec,ord=2,axis=0) \n",
    "    if norm == 0: \n",
    "         return word_vec \n",
    "    return word_vec/norm"
   ]
  },
  {
   "cell_type": "markdown",
   "id": "aba9d9c2",
   "metadata": {},
   "source": [
    "计算PECO的相似矩阵"
   ]
  },
  {
   "cell_type": "code",
   "execution_count": 59,
   "id": "5ac2eb8b",
   "metadata": {},
   "outputs": [
    {
     "name": "stdout",
     "output_type": "stream",
     "text": [
      "                          peco  \\\n",
      "0     sodium chloride exposure   \n",
      "1             unknown exposure   \n",
      "2  Pseudomonas avenae exposure   \n",
      "3             greenhouse study   \n",
      "4       abscisic acid exposure   \n",
      "\n",
      "                                                 def  \n",
      "0  A salt exposure (PECO:0007185) involving the u...  \n",
      "1  A plant exposure (PECO:0001001) where there is...  \n",
      "2  The treatment involving exposure of plant to t...  \n",
      "3  The treatment where the plants were grown unde...  \n",
      "4  A growth hormone exposure (PECO:0007165) invol...  \n",
      "<class 'pandas.core.frame.DataFrame'>\n"
     ]
    }
   ],
   "source": [
    "lines = pd.read_excel(r'D:\\MDA-GCNFTG-main\\GDA\\peco_def.xlsx')\n",
    "print(lines.head())\n",
    "print(type(lines))       "
   ]
  },
  {
   "cell_type": "code",
   "execution_count": 3,
   "id": "fbd8c881",
   "metadata": {},
   "outputs": [],
   "source": [
    "class DocumentDataset(object) :\n",
    "    def __init__(self,data:pd.DataFrame,column) :\n",
    "        document = data[column].apply(self.preprocess)\n",
    "        self.documents = [TaggedDocument(text,[index])\n",
    "        for index,text in document.iteritems()]\n",
    "\n",
    "    def preprocess(self,document) :\n",
    "        return preprocess_string(remove_stopwords(document))\n",
    "    \n",
    "    def __iter_(self):\n",
    "        for document in self.documents:\n",
    "            yield documents\n",
    "    def tagged_documents(self,shuffle=False) :\n",
    "        if shuffle:\n",
    "            random.shuffle(self.documents)\n",
    "        return self.documents\n"
   ]
  },
  {
   "cell_type": "code",
   "execution_count": 60,
   "id": "cbe12efc",
   "metadata": {},
   "outputs": [],
   "source": [
    "document_dataset = DocumentDataset(lines,'def')"
   ]
  },
  {
   "cell_type": "code",
   "execution_count": 7,
   "id": "1ad5a7ce",
   "metadata": {},
   "outputs": [],
   "source": [
    "docVecModel = Doc2Vec(min_count=1,\n",
    "                    window=5,\n",
    "                    vector_size=100,sample=1e-4,\n",
    "                    negative=5,\n",
    "                    workers=2)\n",
    "\n",
    "#TaggedDocument的实例\n",
    "docVecModel.build_vocab(document_dataset.tagged_documents()) "
   ]
  },
  {
   "cell_type": "code",
   "execution_count": 62,
   "id": "a68678c2",
   "metadata": {},
   "outputs": [],
   "source": [
    "docVecModel.train(document_dataset.tagged_documents(shuffle=True),\n",
    "            total_examples = docVecModel.corpus_count,\n",
    "            epochs=10)"
   ]
  },
  {
   "cell_type": "code",
   "execution_count": 49,
   "id": "51c2fedc",
   "metadata": {},
   "outputs": [],
   "source": [
    "docVecModel.save(r'D:\\MDA-GCNFTG-main\\GDA\\pecoVecModel.d2v')"
   ]
  },
  {
   "cell_type": "code",
   "execution_count": 83,
   "id": "a862bd97",
   "metadata": {},
   "outputs": [],
   "source": [
    "pl = []\n",
    "for i in range(len(lines['peco'])):    \n",
    "        pl.append(docVecModel[i])\n",
    "        \n",
    "PSSM = np.corrcoef(pl,pl)\n"
   ]
  },
  {
   "cell_type": "code",
   "execution_count": 84,
   "id": "5f576c11",
   "metadata": {},
   "outputs": [
    {
     "data": {
      "text/plain": [
       "array([[ 1.        , -0.01469787, -0.05122649, ...,  0.04645632,\n",
       "         0.15341735, -0.1502182 ],\n",
       "       [-0.01469787,  1.        , -0.02405414, ..., -0.09853404,\n",
       "        -0.01296746,  0.02360266],\n",
       "       [-0.05122649, -0.02405414,  1.        , ...,  0.17213865,\n",
       "        -0.00572574, -0.11191597],\n",
       "       ...,\n",
       "       [ 0.04645632, -0.09853404,  0.17213865, ...,  1.        ,\n",
       "        -0.00693678,  0.07415919],\n",
       "       [ 0.15341735, -0.01296746, -0.00572574, ..., -0.00693678,\n",
       "         1.        , -0.09784653],\n",
       "       [-0.1502182 ,  0.02360266, -0.11191597, ...,  0.07415919,\n",
       "        -0.09784653,  1.        ]])"
      ]
     },
     "execution_count": 84,
     "metadata": {},
     "output_type": "execute_result"
    }
   ],
   "source": [
    "PSSM"
   ]
  },
  {
   "cell_type": "code",
   "execution_count": 89,
   "id": "f67e40f2",
   "metadata": {},
   "outputs": [],
   "source": [
    "np.savetxt(r'PSSM.txt',PSSM, fmt='%f', delimiter=',')"
   ]
  },
  {
   "cell_type": "code",
   "execution_count": 79,
   "id": "5093d711",
   "metadata": {
    "scrolled": true
   },
   "outputs": [
    {
     "name": "stdout",
     "output_type": "stream",
     "text": [
      "[[1.         0.98198051]\n",
      " [0.98198051 1.        ]]\n"
     ]
    }
   ],
   "source": []
  },
  {
   "cell_type": "markdown",
   "id": "69b8696e",
   "metadata": {},
   "source": [
    "计算gene的相似矩阵"
   ]
  },
  {
   "cell_type": "code",
   "execution_count": 4,
   "id": "87e428d3",
   "metadata": {},
   "outputs": [
    {
     "name": "stdout",
     "output_type": "stream",
     "text": [
      "                                       gene  \\\n",
      "0                            LOC_Os01g64660   \n",
      "1                            LOC_Os03g38000   \n",
      "2                            LOC_Os10g20630   \n",
      "3  BTH-induced ERF transcriptional factor 2   \n",
      "4                    Ent-kaurene synthase 6   \n",
      "\n",
      "                                                 def  \n",
      "0  Catalysis of the reaction: D-fructose 1,6-bisp...  \n",
      "1  Binding to an RNA molecule or a portion thereo...  \n",
      "2                   Binding to a calcium ion (Ca2+).  \n",
      "3  A transcription regulator activity that modula...  \n",
      "4  Reactions, triggered in response to the presen...  \n",
      "12187\n"
     ]
    }
   ],
   "source": [
    "lines = pd.read_excel(r'D:\\MDA-GCNFTG-main\\GDA\\gene_name_def.xlsx')\n",
    "print(lines.head())\n",
    "print(len(lines))  "
   ]
  },
  {
   "cell_type": "code",
   "execution_count": 5,
   "id": "f2fef484",
   "metadata": {},
   "outputs": [],
   "source": [
    "document_dataset = DocumentDataset(lines,'def')"
   ]
  },
  {
   "cell_type": "code",
   "execution_count": 8,
   "id": "853360e4",
   "metadata": {},
   "outputs": [],
   "source": [
    "docVecModel.train(document_dataset.tagged_documents(shuffle=True),\n",
    "            total_examples = docVecModel.corpus_count,\n",
    "            epochs=10)"
   ]
  },
  {
   "cell_type": "code",
   "execution_count": 9,
   "id": "87973cdd",
   "metadata": {},
   "outputs": [],
   "source": [
    "docVecModel.save(r'D:\\MDA-GCNFTG-main\\GDA\\geneVecModel.d2v')"
   ]
  },
  {
   "cell_type": "code",
   "execution_count": 10,
   "id": "0ee21a18",
   "metadata": {
    "scrolled": true
   },
   "outputs": [
    {
     "data": {
      "text/plain": [
       "array([-0.56726223,  1.0542306 , -0.01064432,  1.3304292 ,  0.57197165,\n",
       "       -1.4561863 ,  0.833518  ,  0.9520376 , -1.7497698 , -0.65613073,\n",
       "       -0.41294712, -0.6259643 ,  0.65125763, -0.4949115 ,  0.65485823,\n",
       "        0.36468238,  0.54316765, -0.03805818, -0.19582593,  0.29681045,\n",
       "       -0.15857954, -0.8587142 ,  0.08078966,  0.83996826,  0.61348504,\n",
       "        0.87959194, -0.31068867,  1.5680707 ,  0.5999156 ,  1.1967789 ,\n",
       "        0.9890515 ,  0.91333395, -0.27526766,  0.385907  ,  0.5644851 ,\n",
       "        0.11917278,  1.5829637 ,  0.15411966,  0.36179778, -0.5463829 ,\n",
       "       -1.0048064 ,  1.4320352 , -0.17996225,  0.21984331, -0.6032092 ,\n",
       "        0.06404587,  0.89795256,  0.57576364,  1.5562563 , -0.5847714 ,\n",
       "       -0.47722027, -0.2865732 ,  0.5499055 ,  0.58250254,  0.620217  ,\n",
       "        0.8915011 , -0.96515924, -0.21736196,  0.01693996,  0.7842304 ,\n",
       "       -0.422251  ,  1.9963826 ,  0.8494391 ,  0.3830772 , -1.557347  ,\n",
       "        0.8469537 , -1.0322317 , -0.77306306,  0.87841314, -1.0215156 ,\n",
       "       -1.4650292 ,  1.9363317 ,  0.5345544 , -1.6697117 ,  0.08812369,\n",
       "        2.0874646 ,  0.88362455,  0.76487845,  0.8287885 ,  0.979505  ,\n",
       "        0.45453012,  1.8423213 ,  0.28565648, -0.15346356, -2.0873196 ,\n",
       "       -1.1950006 ,  0.0271055 ,  1.0411766 ,  0.6523674 ,  0.4194529 ,\n",
       "       -0.24641508,  0.30141503, -1.462903  , -0.42777798, -0.2077419 ,\n",
       "       -1.1033558 ,  1.0942714 ,  1.5613933 , -0.30701765,  0.8936621 ],\n",
       "      dtype=float32)"
      ]
     },
     "execution_count": 10,
     "metadata": {},
     "output_type": "execute_result"
    }
   ],
   "source": [
    "docVecModel[123]"
   ]
  },
  {
   "cell_type": "code",
   "execution_count": 11,
   "id": "323b59cd",
   "metadata": {},
   "outputs": [],
   "source": [
    "gl = []\n",
    "for i in range(len(lines['gene'])):    \n",
    "    gl.append(docVecModel[i])\n",
    "        \n",
    "GSSM = np.corrcoef(gl,gl)"
   ]
  },
  {
   "cell_type": "code",
   "execution_count": 20,
   "id": "d9dc6e82",
   "metadata": {},
   "outputs": [],
   "source": [
    "np.savetxt('GSSM.txt', GSSM, fmt='%.3f')"
   ]
  },
  {
   "cell_type": "code",
   "execution_count": 25,
   "id": "fc0758e3",
   "metadata": {},
   "outputs": [
    {
     "data": {
      "text/html": [
       "<div>\n",
       "<style scoped>\n",
       "    .dataframe tbody tr th:only-of-type {\n",
       "        vertical-align: middle;\n",
       "    }\n",
       "\n",
       "    .dataframe tbody tr th {\n",
       "        vertical-align: top;\n",
       "    }\n",
       "\n",
       "    .dataframe thead th {\n",
       "        text-align: right;\n",
       "    }\n",
       "</style>\n",
       "<table border=\"1\" class=\"dataframe\">\n",
       "  <thead>\n",
       "    <tr style=\"text-align: right;\">\n",
       "      <th></th>\n",
       "      <th>peco</th>\n",
       "      <th>gene</th>\n",
       "      <th>peco_idx</th>\n",
       "      <th>gene_idx</th>\n",
       "      <th>label</th>\n",
       "    </tr>\n",
       "  </thead>\n",
       "  <tbody>\n",
       "    <tr>\n",
       "      <th>0</th>\n",
       "      <td>unknown exposure</td>\n",
       "      <td>13113.t00029</td>\n",
       "      <td>1</td>\n",
       "      <td>104</td>\n",
       "      <td>1</td>\n",
       "    </tr>\n",
       "    <tr>\n",
       "      <th>1</th>\n",
       "      <td>Magnaporthe grisea exposure</td>\n",
       "      <td>13113.t00029</td>\n",
       "      <td>12</td>\n",
       "      <td>104</td>\n",
       "      <td>1</td>\n",
       "    </tr>\n",
       "    <tr>\n",
       "      <th>2</th>\n",
       "      <td>unknown exposure</td>\n",
       "      <td>13113.t00060</td>\n",
       "      <td>1</td>\n",
       "      <td>11064</td>\n",
       "      <td>1</td>\n",
       "    </tr>\n",
       "    <tr>\n",
       "      <th>3</th>\n",
       "      <td>continuous dark (no light) exposure</td>\n",
       "      <td>13113.t00060</td>\n",
       "      <td>20</td>\n",
       "      <td>11064</td>\n",
       "      <td>1</td>\n",
       "    </tr>\n",
       "    <tr>\n",
       "      <th>4</th>\n",
       "      <td>unknown exposure</td>\n",
       "      <td>13113.t00104</td>\n",
       "      <td>1</td>\n",
       "      <td>10233</td>\n",
       "      <td>1</td>\n",
       "    </tr>\n",
       "    <tr>\n",
       "      <th>...</th>\n",
       "      <td>...</td>\n",
       "      <td>...</td>\n",
       "      <td>...</td>\n",
       "      <td>...</td>\n",
       "      <td>...</td>\n",
       "    </tr>\n",
       "    <tr>\n",
       "      <th>23553</th>\n",
       "      <td>benzothiadiazole exposure</td>\n",
       "      <td>LOC_Os10g40950</td>\n",
       "      <td>27</td>\n",
       "      <td>2372</td>\n",
       "      <td>1</td>\n",
       "    </tr>\n",
       "    <tr>\n",
       "      <th>23554</th>\n",
       "      <td>methyl jasmonate exposure</td>\n",
       "      <td>LOC_Os02g55990</td>\n",
       "      <td>14</td>\n",
       "      <td>4481</td>\n",
       "      <td>1</td>\n",
       "    </tr>\n",
       "    <tr>\n",
       "      <th>23555</th>\n",
       "      <td>methyl jasmonate exposure</td>\n",
       "      <td>LOC_Os04g44670</td>\n",
       "      <td>14</td>\n",
       "      <td>3338</td>\n",
       "      <td>1</td>\n",
       "    </tr>\n",
       "    <tr>\n",
       "      <th>23556</th>\n",
       "      <td>methyl jasmonate exposure</td>\n",
       "      <td>LOC_Os10g10030</td>\n",
       "      <td>14</td>\n",
       "      <td>4812</td>\n",
       "      <td>1</td>\n",
       "    </tr>\n",
       "    <tr>\n",
       "      <th>23557</th>\n",
       "      <td>benzyladenine exposure</td>\n",
       "      <td>LOC_Os03g25300</td>\n",
       "      <td>8</td>\n",
       "      <td>8610</td>\n",
       "      <td>1</td>\n",
       "    </tr>\n",
       "  </tbody>\n",
       "</table>\n",
       "<p>23558 rows × 5 columns</p>\n",
       "</div>"
      ],
      "text/plain": [
       "                                      peco            gene  peco_idx  \\\n",
       "0                         unknown exposure    13113.t00029         1   \n",
       "1              Magnaporthe grisea exposure    13113.t00029        12   \n",
       "2                         unknown exposure    13113.t00060         1   \n",
       "3      continuous dark (no light) exposure    13113.t00060        20   \n",
       "4                         unknown exposure    13113.t00104         1   \n",
       "...                                    ...             ...       ...   \n",
       "23553            benzothiadiazole exposure  LOC_Os10g40950        27   \n",
       "23554            methyl jasmonate exposure  LOC_Os02g55990        14   \n",
       "23555            methyl jasmonate exposure  LOC_Os04g44670        14   \n",
       "23556            methyl jasmonate exposure  LOC_Os10g10030        14   \n",
       "23557               benzyladenine exposure  LOC_Os03g25300         8   \n",
       "\n",
       "       gene_idx  label  \n",
       "0           104      1  \n",
       "1           104      1  \n",
       "2         11064      1  \n",
       "3         11064      1  \n",
       "4         10233      1  \n",
       "...         ...    ...  \n",
       "23553      2372      1  \n",
       "23554      4481      1  \n",
       "23555      3338      1  \n",
       "23556      4812      1  \n",
       "23557      8610      1  \n",
       "\n",
       "[23558 rows x 5 columns]"
      ]
     },
     "execution_count": 25,
     "metadata": {},
     "output_type": "execute_result"
    }
   ],
   "source": [
    "peco_name = pd.read_excel('.\\data\\peco_name.xlsx', header = None, names = ['peco'])\n",
    "peco_name['peco_idx'] = peco_name.index\n",
    "\n",
    "gene_name = pd.read_excel('.\\data\\gene_name.xlsx', header = None, names = ['gene'])\n",
    "gene_name['gene_idx'] = gene_name.index\n",
    "\n",
    "known_associations = pd.read_excel('.\\data\\known_associations.xlsx', header = None, names = ['peco','gene'])\n",
    "known_associations = pd.merge(known_associations, peco_name, on = 'peco')\n",
    "known_associations =  pd.merge(known_associations, gene_name, on = 'gene')\n",
    "known_associations['label'] = 1\n",
    "known_associations = known_associations.drop_duplicates().reset_index(drop = True)\n",
    "known_associations"
   ]
  },
  {
   "cell_type": "code",
   "execution_count": 30,
   "id": "f7a57efe",
   "metadata": {},
   "outputs": [
    {
     "name": "stdout",
     "output_type": "stream",
     "text": [
      "[0, 1, 2, 3, 4, 5, 6, 7, 8, 9, 10, 11, 12, 13, 14, 15, 16, 17, 18, 19, 20, 21, 22, 23, 24, 25, 26, 27, 28, 29, 30, 31]\n"
     ]
    }
   ],
   "source": [
    "print(list(set(peco_name['peco_idx'])))"
   ]
  },
  {
   "cell_type": "code",
   "execution_count": 31,
   "id": "93739ab9",
   "metadata": {},
   "outputs": [
    {
     "data": {
      "text/plain": [
       "(24, 11177)"
      ]
     },
     "execution_count": 31,
     "metadata": {},
     "output_type": "execute_result"
    }
   ],
   "source": [
    "positive_gep = known_associations[['peco_idx', 'gene_idx']].sort_values(by = ['peco_idx', 'gene_idx'], ascending = True).reset_index(drop = True)\n",
    "len(set(positive_gep['peco_idx'])), len(set(positive_gep['gene_idx']))"
   ]
  },
  {
   "cell_type": "code",
   "execution_count": 34,
   "id": "bf96dde2",
   "metadata": {},
   "outputs": [
    {
     "data": {
      "text/html": [
       "<div>\n",
       "<style scoped>\n",
       "    .dataframe tbody tr th:only-of-type {\n",
       "        vertical-align: middle;\n",
       "    }\n",
       "\n",
       "    .dataframe tbody tr th {\n",
       "        vertical-align: top;\n",
       "    }\n",
       "\n",
       "    .dataframe thead th {\n",
       "        text-align: right;\n",
       "    }\n",
       "</style>\n",
       "<table border=\"1\" class=\"dataframe\">\n",
       "  <thead>\n",
       "    <tr style=\"text-align: right;\">\n",
       "      <th></th>\n",
       "      <th>peco_idx</th>\n",
       "      <th>gene_idx</th>\n",
       "    </tr>\n",
       "  </thead>\n",
       "  <tbody>\n",
       "    <tr>\n",
       "      <th>0</th>\n",
       "      <td>0</td>\n",
       "      <td>0</td>\n",
       "    </tr>\n",
       "    <tr>\n",
       "      <th>1</th>\n",
       "      <td>0</td>\n",
       "      <td>1</td>\n",
       "    </tr>\n",
       "    <tr>\n",
       "      <th>2</th>\n",
       "      <td>0</td>\n",
       "      <td>2</td>\n",
       "    </tr>\n",
       "    <tr>\n",
       "      <th>3</th>\n",
       "      <td>0</td>\n",
       "      <td>5</td>\n",
       "    </tr>\n",
       "    <tr>\n",
       "      <th>4</th>\n",
       "      <td>0</td>\n",
       "      <td>6</td>\n",
       "    </tr>\n",
       "    <tr>\n",
       "      <th>...</th>\n",
       "      <td>...</td>\n",
       "      <td>...</td>\n",
       "    </tr>\n",
       "    <tr>\n",
       "      <th>268243</th>\n",
       "      <td>31</td>\n",
       "      <td>12182</td>\n",
       "    </tr>\n",
       "    <tr>\n",
       "      <th>268244</th>\n",
       "      <td>31</td>\n",
       "      <td>12183</td>\n",
       "    </tr>\n",
       "    <tr>\n",
       "      <th>268245</th>\n",
       "      <td>31</td>\n",
       "      <td>12184</td>\n",
       "    </tr>\n",
       "    <tr>\n",
       "      <th>268246</th>\n",
       "      <td>31</td>\n",
       "      <td>12185</td>\n",
       "    </tr>\n",
       "    <tr>\n",
       "      <th>268247</th>\n",
       "      <td>31</td>\n",
       "      <td>12186</td>\n",
       "    </tr>\n",
       "  </tbody>\n",
       "</table>\n",
       "<p>268248 rows × 2 columns</p>\n",
       "</div>"
      ],
      "text/plain": [
       "        peco_idx  gene_idx\n",
       "0              0         0\n",
       "1              0         1\n",
       "2              0         2\n",
       "3              0         5\n",
       "4              0         6\n",
       "...          ...       ...\n",
       "268243        31     12182\n",
       "268244        31     12183\n",
       "268245        31     12184\n",
       "268246        31     12185\n",
       "268247        31     12186\n",
       "\n",
       "[268248 rows x 2 columns]"
      ]
     },
     "execution_count": 34,
     "metadata": {},
     "output_type": "execute_result"
    }
   ],
   "source": [
    "peco_idx = list(set(positive_gep['peco_idx']))\n",
    "gene_idx = list(set(positive_gep['gene_idx']))\n",
    "all_gep = pd.DataFrame(list(product(peco_idx, gene_idx)), columns = ['peco_idx', 'gene_idx'])\n",
    "all_gep"
   ]
  },
  {
   "cell_type": "code",
   "execution_count": 35,
   "id": "97df3f79",
   "metadata": {},
   "outputs": [],
   "source": [
    "negative_gep = pd.concat([all_gep, positive_gep], axis = 0).drop_duplicates(keep = False)"
   ]
  },
  {
   "cell_type": "code",
   "execution_count": null,
   "id": "f747d0f3",
   "metadata": {},
   "outputs": [],
   "source": []
  },
  {
   "cell_type": "code",
   "execution_count": 36,
   "id": "c5647df7",
   "metadata": {},
   "outputs": [
    {
     "data": {
      "text/plain": [
       "((268248, 2), (23558, 2), (244690, 2))"
      ]
     },
     "execution_count": 36,
     "metadata": {},
     "output_type": "execute_result"
    }
   ],
   "source": [
    "all_gep.shape, positive_gep.shape, negative_gep.shape"
   ]
  },
  {
   "cell_type": "code",
   "execution_count": null,
   "id": "956a5b11",
   "metadata": {},
   "outputs": [],
   "source": []
  }
 ],
 "metadata": {
  "kernelspec": {
   "display_name": "Python 3 (ipykernel)",
   "language": "python",
   "name": "python3"
  },
  "language_info": {
   "codemirror_mode": {
    "name": "ipython",
    "version": 3
   },
   "file_extension": ".py",
   "mimetype": "text/x-python",
   "name": "python",
   "nbconvert_exporter": "python",
   "pygments_lexer": "ipython3",
   "version": "3.9.12"
  }
 },
 "nbformat": 4,
 "nbformat_minor": 5
}
