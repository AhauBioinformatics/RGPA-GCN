{
 "cells": [
  {
   "cell_type": "code",
   "execution_count": 5,
   "metadata": {},
   "outputs": [],
   "source": [
    "import pandas as pd"
   ]
  },
  {
   "cell_type": "code",
   "execution_count": 8,
   "metadata": {},
   "outputs": [],
   "source": [
    "peco_name = pd.read_excel('D:\\小麦\\MDA-GCNFTG-main\\MDA-GCNFTG-main\\data\\peco_name.xlsx', header = None, names = ['peco'])\n",
    "peco_name['peco_idx'] = peco_name.index\n",
    "\n",
    "gene_name = pd.read_excel('D:\\小麦\\MDA-GCNFTG-main\\MDA-GCNFTG-main\\data\\gene_name.xlsx', header = None, names = ['gene'])\n",
    "gene_name['gene_idx'] = gene_name.index\n",
    "\n",
    "known_associations = pd.read_excel(r'D:\\小麦\\MDA-GCNFTG-main\\MDA-GCNFTG-main\\data\\known_associations.xlsx', header = None, names = ['peco','gene'])\n",
    "known_associations = pd.merge(known_associations, peco_name, on = 'peco')\n",
    "known_associations =  pd.merge(known_associations, gene_name, on = 'gene')\n",
    "known_associations['label'] = 1\n",
    "known_associations = known_associations.drop_duplicates().reset_index(drop = True)\n",
    "known_associations.to_excel(r'D:\\小麦\\MDA-GCNFTG-main\\MDA-GCNFTG-main\\data\\known_association.xlsx')"
   ]
  },
  {
   "cell_type": "code",
   "execution_count": 24,
   "metadata": {},
   "outputs": [],
   "source": [
    "df = pd.read_excel(r'D:\\小麦\\MDA-GCNFTG-main\\MDA-GCNFTG-main\\data\\known_association.xlsx')\n",
    "df['peco_idx']\n",
    "df['gene_idx']\n",
    "juzhen = pd.get_dummies(df['peco_idx']).groupby(df['gene_idx']).apply(max)"
   ]
  },
  {
   "cell_type": "code",
   "execution_count": 26,
   "metadata": {},
   "outputs": [
    {
     "name": "stdout",
     "output_type": "stream",
     "text": [
      "0\n"
     ]
    },
    {
     "ename": "TypeError",
     "evalue": "can only join an iterable",
     "output_type": "error",
     "traceback": [
      "\u001b[1;31m---------------------------------------------------------------------------\u001b[0m",
      "\u001b[1;31mTypeError\u001b[0m                                 Traceback (most recent call last)",
      "\u001b[1;32m<ipython-input-26-3bda6e92abcf>\u001b[0m in \u001b[0;36m<module>\u001b[1;34m\u001b[0m\n\u001b[0;32m      2\u001b[0m     \u001b[1;32mfor\u001b[0m \u001b[0mi\u001b[0m \u001b[1;32min\u001b[0m \u001b[0mjuzhen\u001b[0m\u001b[1;33m:\u001b[0m\u001b[1;33m\u001b[0m\u001b[1;33m\u001b[0m\u001b[0m\n\u001b[0;32m      3\u001b[0m         \u001b[0mprint\u001b[0m\u001b[1;33m(\u001b[0m\u001b[0mi\u001b[0m\u001b[1;33m)\u001b[0m\u001b[1;33m\u001b[0m\u001b[1;33m\u001b[0m\u001b[0m\n\u001b[1;32m----> 4\u001b[1;33m         \u001b[0mf\u001b[0m\u001b[1;33m.\u001b[0m\u001b[0mwrite\u001b[0m\u001b[1;33m(\u001b[0m\u001b[1;34m','\u001b[0m\u001b[1;33m.\u001b[0m\u001b[0mjoin\u001b[0m\u001b[1;33m(\u001b[0m\u001b[0mi\u001b[0m\u001b[1;33m)\u001b[0m\u001b[1;33m)\u001b[0m\u001b[1;33m\u001b[0m\u001b[1;33m\u001b[0m\u001b[0m\n\u001b[0m\u001b[0;32m      5\u001b[0m         \u001b[0mf\u001b[0m\u001b[1;33m.\u001b[0m\u001b[0mwrite\u001b[0m\u001b[1;33m(\u001b[0m\u001b[1;34m'\\n'\u001b[0m\u001b[1;33m)\u001b[0m\u001b[1;33m\u001b[0m\u001b[1;33m\u001b[0m\u001b[0m\n\u001b[0;32m      6\u001b[0m \u001b[0mf\u001b[0m\u001b[1;33m.\u001b[0m\u001b[0mclose\u001b[0m\u001b[1;33m(\u001b[0m\u001b[1;33m)\u001b[0m\u001b[1;33m\u001b[0m\u001b[1;33m\u001b[0m\u001b[0m\n",
      "\u001b[1;31mTypeError\u001b[0m: can only join an iterable"
     ]
    }
   ],
   "source": [
    "with open(r'test.txt', 'w', encoding='utf-8')as f:\n",
    "    for i in juzhen:\n",
    "        print(i)\n",
    "        f.write(','.join(i))\n",
    "        f.write('\\n')\n",
    "f.close()"
   ]
  },
  {
   "cell_type": "code",
   "execution_count": 28,
   "metadata": {},
   "outputs": [
    {
     "name": "stdout",
     "output_type": "stream",
     "text": [
      "          0   1   2   3   4   5   6   7   8   9   ...  16  17  18  19  20  21  \\\n",
      "gene_idx                                          ...                           \n",
      "0          1   0   0   0   0   0   0   0   0   0  ...   0   0   0   0   0   0   \n",
      "1          1   1   0   0   0   0   0   0   0   0  ...   0   0   0   0   0   0   \n",
      "2          1   1   1   1   1   1   1   0   0   0  ...   0   0   0   0   0   0   \n",
      "3          1   0   0   1   0   0   0   0   0   0  ...   0   0   0   0   0   0   \n",
      "4          0   1   0   0   0   0   0   1   0   0  ...   0   0   0   0   0   0   \n",
      "...       ..  ..  ..  ..  ..  ..  ..  ..  ..  ..  ...  ..  ..  ..  ..  ..  ..   \n",
      "11629      1   0   0   0   0   0   0   0   0   0  ...   0   0   0   0   0   0   \n",
      "11630      1   0   0   0   0   0   0   0   0   0  ...   0   0   0   0   0   0   \n",
      "11631      0   0   0   0   0   0   0   1   0   0  ...   0   0   0   0   0   0   \n",
      "11632      1   0   0   0   0   0   0   1   0   0  ...   0   0   0   0   0   0   \n",
      "11633      1   1   0   0   0   0   0   0   0   0  ...   0   0   0   0   0   0   \n",
      "\n",
      "          22  23  24  25  \n",
      "gene_idx                  \n",
      "0          0   0   0   0  \n",
      "1          0   0   0   0  \n",
      "2          0   0   0   0  \n",
      "3          0   0   0   0  \n",
      "4          0   0   0   0  \n",
      "...       ..  ..  ..  ..  \n",
      "11629      0   0   0   0  \n",
      "11630      0   0   0   0  \n",
      "11631      0   0   0   0  \n",
      "11632      0   0   0   0  \n",
      "11633      0   0   0   0  \n",
      "\n",
      "[11634 rows x 26 columns]\n"
     ]
    }
   ],
   "source": [
    "print(juzhen)"
   ]
  },
  {
   "cell_type": "code",
   "execution_count": 1,
   "metadata": {},
   "outputs": [
    {
     "name": "stdout",
     "output_type": "stream",
     "text": [
      "0\n"
     ]
    }
   ],
   "source": [
    "print(0%3)"
   ]
  },
  {
   "cell_type": "code",
   "execution_count": null,
   "metadata": {},
   "outputs": [],
   "source": []
  }
 ],
 "metadata": {
  "kernelspec": {
   "display_name": "Python 3",
   "language": "python",
   "name": "python3"
  },
  "language_info": {
   "codemirror_mode": {
    "name": "ipython",
    "version": 3
   },
   "file_extension": ".py",
   "mimetype": "text/x-python",
   "name": "python",
   "nbconvert_exporter": "python",
   "pygments_lexer": "ipython3",
   "version": "3.8.3"
  }
 },
 "nbformat": 4,
 "nbformat_minor": 4
}
